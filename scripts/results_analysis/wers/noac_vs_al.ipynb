{
 "cells": [
  {
   "cell_type": "code",
   "execution_count": 1,
   "metadata": {},
   "outputs": [],
   "source": [
    "import os\n",
    "import json\n",
    "import numpy as np\n",
    "from omegaconf import OmegaConf"
   ]
  },
  {
   "cell_type": "code",
   "execution_count": 2,
   "metadata": {},
   "outputs": [],
   "source": [
    "exp_dir = \"../../../logs/de/asr/evaluate\"\n",
    "folders = {\n",
    "    \"Fine-tuned\": \"version_4\",\n",
    "    \"No AC\": \"version_48\",\n",
    "    \"AL\": \"version_43\",\n",
    "    \"One-way AL\": \"version_44\",\n",
    "}"
   ]
  },
  {
   "cell_type": "code",
   "execution_count": 3,
   "metadata": {},
   "outputs": [],
   "source": [
    "# define which accent is standard, which are seen and which are unseen\n",
    "classes = {\n",
    "    \"standard\": [\"de\"],\n",
    "    \"seen\": [\"ch\", \"at\"],\n",
    "    \"unseen\": [\"gb\", \"it\", \"de_al\", \"fr\", \"de_ni\", \"us\", \"ca\", \"ru\"],\n",
    "}"
   ]
  },
  {
   "cell_type": "code",
   "execution_count": 4,
   "metadata": {},
   "outputs": [],
   "source": [
    "# load WERs of each file, for each accent\n",
    "wers = dict()\n",
    "for exp, folder in folders.items():\n",
    "    wers[exp] = {k[5:-4]: v for k, v in json.load(open(f\"{exp_dir}/{folder}/avg_wers.json\")).items()}"
   ]
  },
  {
   "cell_type": "code",
   "execution_count": 5,
   "metadata": {},
   "outputs": [],
   "source": [
    "# transform dictionary into a numpy array, where one axis represents the accents and another the experiments\n",
    "experiments = list(wers.keys())\n",
    "accents = list(wers[experiments[0]].keys())\n",
    "n_words = np.array([wers[experiments[0]][acc][\"n_words\"] for acc in accents])\n",
    "avg_wers = np.array([[wers[exp][acc][\"avg_wer\"] for exp in experiments] for acc in accents])"
   ]
  },
  {
   "cell_type": "code",
   "execution_count": 6,
   "metadata": {},
   "outputs": [],
   "source": [
    "# compute means for each class, for each experiment\n",
    "class_indices = {k: [accents.index(acc) for acc in v] for k, v in classes.items()}\n",
    "class_means = {k: np.mean(avg_wers[indices], axis=0) for k, indices in class_indices.items()}"
   ]
  },
  {
   "cell_type": "code",
   "execution_count": 7,
   "metadata": {},
   "outputs": [
    {
     "name": "stdout",
     "output_type": "stream",
     "text": [
      "Accent / Dialect | Fine-tuned | No AC | AL | One-way AL\n",
      "|---:|---:|---:|---:|---:|\n",
      "at | 1.80 | 1.53 | 1.63 | 1.61\n",
      "gb | 4.11 | 3.71 | 4.19 | 3.71\n",
      "it | 1.40 | 1.24 | 1.31 | 1.35\n",
      "de_al | 1.16 | 1.13 | 1.19 | 1.20\n",
      "fr | 2.68 | 1.92 | 2.00 | 2.04\n",
      "de_ni | 4.31 | 4.20 | 4.11 | 4.17\n",
      "ch | 3.11 | 2.67 | 2.70 | 2.63\n",
      "de | 1.92 | 1.60 | 1.65 | 1.65\n",
      "us | 4.69 | 4.60 | 4.38 | 4.47\n",
      "ca | 3.70 | 3.27 | 2.76 | 2.93\n",
      "ru | 2.97 | 2.29 | 2.13 | 2.12\n",
      "mean | 2.89 | 2.56 | 2.55 | 2.54\n",
      "standard mean | 1.92 | 1.60 | 1.65 | 1.65\n",
      "seen mean | 2.45 | 2.10 | 2.16 | 2.12\n",
      "unseen mean | 3.13 | 2.79 | 2.76 | 2.75\n",
      "worst | 4.69 | 4.60 | 4.38 | 4.47\n",
      "3-worst mean. | 4.37 | 4.17 | 4.23 | 4.12\n"
     ]
    }
   ],
   "source": [
    "# print the avg. WERs and the means (overall and per class) as a markdown table\n",
    "headers = [\"Accent / Dialect\"] + experiments\n",
    "print((\" | \").join(headers))\n",
    "print(f\"|{'---:|'*len(headers)}\")\n",
    "\n",
    "# print avg. WERs\n",
    "for i in range(len(accents)):\n",
    "    row = [accents[i]] + [f\"{avg_wers[i,j]*100:.2f}\" for j in range(len(experiments))]\n",
    "    print((\" | \").join(row))\n",
    "\n",
    "# print overall means\n",
    "row = [\"mean\"] + [f\"{np.mean(avg_wers[:,i])*100:.2f}\" for i in range(len(experiments))]\n",
    "print((\" | \").join(row))\n",
    "\n",
    "# print class means\n",
    "for key, value in class_means.items():\n",
    "    row = [f\"{key} mean\"] + [f\"{value[i]*100:.2f}\" for i in range(len(experiments))]\n",
    "    print((\" | \").join(row))\n",
    "\n",
    "# print worst avg. WER of each experiment\n",
    "row = [\"worst\"] + [f\"{v*100:.2f}\" for v in np.max(avg_wers, axis=0)]\n",
    "print((\" | \").join(row))\n",
    "\n",
    "# print the avg. of the three worst avg. WERs of each experiment\n",
    "row = [\"3-worst mean.\"] + [f\"{np.mean(np.sort(avg_wers, axis=0)[-3:,i])*100:.2f}\" for i in range(len(experiments))]\n",
    "print((\" | \").join(row))\n"
   ]
  },
  {
   "attachments": {},
   "cell_type": "markdown",
   "metadata": {},
   "source": [
    "Accent / Dialect | Fine-tuned | No AC | AL | One-way AL\n",
    "|---:|---:|---:|---:|---:|\n",
    "at | 1.80 | 1.53 | 1.63 | 1.61\n",
    "gb | 4.11 | 3.71 | 4.19 | 3.71\n",
    "it | 1.40 | 1.24 | 1.31 | 1.35\n",
    "de_al | 1.16 | 1.13 | 1.19 | 1.20\n",
    "fr | 2.68 | 1.92 | 2.00 | 2.04\n",
    "de_ni | 4.31 | 4.20 | 4.11 | 4.17\n",
    "ch | 3.11 | 2.67 | 2.70 | 2.63\n",
    "de | 1.92 | 1.60 | 1.65 | 1.65\n",
    "us | 4.69 | 4.60 | 4.38 | 4.47\n",
    "ca | 3.70 | 3.27 | 2.76 | 2.93\n",
    "ru | 2.97 | 2.29 | 2.13 | 2.12\n",
    "mean | 2.89 | 2.56 | 2.55 | 2.54\n",
    "standard mean | 1.92 | 1.60 | 1.65 | 1.65\n",
    "seen mean | 2.45 | 2.10 | 2.16 | 2.12\n",
    "unseen mean | 3.13 | 2.79 | 2.76 | 2.75\n",
    "worst | 4.69 | 4.60 | 4.38 | 4.47\n",
    "3-worst mean. | 4.37 | 4.17 | 4.23 | 4.12"
   ]
  },
  {
   "cell_type": "code",
   "execution_count": 8,
   "metadata": {},
   "outputs": [
    {
     "name": "stdout",
     "output_type": "stream",
     "text": [
      "Experiment folders:\n",
      "\n",
      "- Fine-tuned: training `logs/asr/train/version_12`, evaluation `../../logs/de/asr/evaluate/version_4`\n"
     ]
    },
    {
     "ename": "ConfigAttributeError",
     "evalue": "Missing key asr\n    full_key: asr\n    object_type=dict",
     "output_type": "error",
     "traceback": [
      "\u001b[0;31m---------------------------------------------------------------------------\u001b[0m",
      "\u001b[0;31mConfigAttributeError\u001b[0m                      Traceback (most recent call last)",
      "\u001b[1;32m/Users/cafr02/repos/accsr_daga23/scripts/results_analysis/wers/noac_vs_al.ipynb Cell 9\u001b[0m in \u001b[0;36m<cell line: 3>\u001b[0;34m()\u001b[0m\n\u001b[1;32m      <a href='vscode-notebook-cell:/Users/cafr02/repos/accsr_daga23/scripts/results_analysis/wers/noac_vs_al.ipynb#X11sZmlsZQ%3D%3D?line=3'>4</a>\u001b[0m eval_folder \u001b[39m=\u001b[39m os\u001b[39m.\u001b[39mpath\u001b[39m.\u001b[39mjoin(exp_dir, folder)\n\u001b[1;32m      <a href='vscode-notebook-cell:/Users/cafr02/repos/accsr_daga23/scripts/results_analysis/wers/noac_vs_al.ipynb#X11sZmlsZQ%3D%3D?line=4'>5</a>\u001b[0m eval_config \u001b[39m=\u001b[39m OmegaConf\u001b[39m.\u001b[39mload(os\u001b[39m.\u001b[39mpath\u001b[39m.\u001b[39mjoin(eval_folder, \u001b[39m\"\u001b[39m\u001b[39mhparams.yaml\u001b[39m\u001b[39m\"\u001b[39m))\n\u001b[0;32m----> <a href='vscode-notebook-cell:/Users/cafr02/repos/accsr_daga23/scripts/results_analysis/wers/noac_vs_al.ipynb#X11sZmlsZQ%3D%3D?line=5'>6</a>\u001b[0m train_folder \u001b[39m=\u001b[39m \u001b[39mf\u001b[39m\u001b[39m'\u001b[39m\u001b[39m../\u001b[39m\u001b[39m{\u001b[39;00meval_config\u001b[39m.\u001b[39masr\u001b[39m.\u001b[39mckpt\u001b[39m.\u001b[39mreplace(\u001b[39m\"\u001b[39m\u001b[39m/checkpoints/last.ckpt\u001b[39m\u001b[39m\"\u001b[39m, \u001b[39m\"\u001b[39m\u001b[39m\"\u001b[39m)\u001b[39m}\u001b[39;00m\u001b[39m'\u001b[39m\n\u001b[1;32m      <a href='vscode-notebook-cell:/Users/cafr02/repos/accsr_daga23/scripts/results_analysis/wers/noac_vs_al.ipynb#X11sZmlsZQ%3D%3D?line=6'>7</a>\u001b[0m \u001b[39mprint\u001b[39m(\u001b[39mf\u001b[39m\u001b[39m\"\u001b[39m\u001b[39m- \u001b[39m\u001b[39m{\u001b[39;00mexp\u001b[39m}\u001b[39;00m\u001b[39m: training `\u001b[39m\u001b[39m{\u001b[39;00mtrain_folder[\u001b[39m3\u001b[39m:]\u001b[39m}\u001b[39;00m\u001b[39m`, evaluation `\u001b[39m\u001b[39m{\u001b[39;00meval_folder[\u001b[39m3\u001b[39m:]\u001b[39m}\u001b[39;00m\u001b[39m`\u001b[39m\u001b[39m\"\u001b[39m)\n",
      "File \u001b[0;32m~/repos/accsr_dat/venv/lib/python3.9/site-packages/omegaconf/dictconfig.py:353\u001b[0m, in \u001b[0;36mDictConfig.__getattr__\u001b[0;34m(self, key)\u001b[0m\n\u001b[1;32m    351\u001b[0m     \u001b[39mreturn\u001b[39;00m \u001b[39mself\u001b[39m\u001b[39m.\u001b[39m_get_impl(key\u001b[39m=\u001b[39mkey, default_value\u001b[39m=\u001b[39m_DEFAULT_MARKER_)\n\u001b[1;32m    352\u001b[0m \u001b[39mexcept\u001b[39;00m ConfigKeyError \u001b[39mas\u001b[39;00m e:\n\u001b[0;32m--> 353\u001b[0m     \u001b[39mself\u001b[39;49m\u001b[39m.\u001b[39;49m_format_and_raise(\n\u001b[1;32m    354\u001b[0m         key\u001b[39m=\u001b[39;49mkey, value\u001b[39m=\u001b[39;49m\u001b[39mNone\u001b[39;49;00m, cause\u001b[39m=\u001b[39;49me, type_override\u001b[39m=\u001b[39;49mConfigAttributeError\n\u001b[1;32m    355\u001b[0m     )\n\u001b[1;32m    356\u001b[0m \u001b[39mexcept\u001b[39;00m \u001b[39mException\u001b[39;00m \u001b[39mas\u001b[39;00m e:\n\u001b[1;32m    357\u001b[0m     \u001b[39mself\u001b[39m\u001b[39m.\u001b[39m_format_and_raise(key\u001b[39m=\u001b[39mkey, value\u001b[39m=\u001b[39m\u001b[39mNone\u001b[39;00m, cause\u001b[39m=\u001b[39me)\n",
      "File \u001b[0;32m~/repos/accsr_dat/venv/lib/python3.9/site-packages/omegaconf/base.py:190\u001b[0m, in \u001b[0;36mNode._format_and_raise\u001b[0;34m(self, key, value, cause, type_override)\u001b[0m\n\u001b[1;32m    187\u001b[0m \u001b[39mdef\u001b[39;00m \u001b[39m_format_and_raise\u001b[39m(\n\u001b[1;32m    188\u001b[0m     \u001b[39mself\u001b[39m, key: Any, value: Any, cause: \u001b[39mException\u001b[39;00m, type_override: Any \u001b[39m=\u001b[39m \u001b[39mNone\u001b[39;00m\n\u001b[1;32m    189\u001b[0m ) \u001b[39m-\u001b[39m\u001b[39m>\u001b[39m \u001b[39mNone\u001b[39;00m:\n\u001b[0;32m--> 190\u001b[0m     format_and_raise(\n\u001b[1;32m    191\u001b[0m         node\u001b[39m=\u001b[39;49m\u001b[39mself\u001b[39;49m,\n\u001b[1;32m    192\u001b[0m         key\u001b[39m=\u001b[39;49mkey,\n\u001b[1;32m    193\u001b[0m         value\u001b[39m=\u001b[39;49mvalue,\n\u001b[1;32m    194\u001b[0m         msg\u001b[39m=\u001b[39;49m\u001b[39mstr\u001b[39;49m(cause),\n\u001b[1;32m    195\u001b[0m         cause\u001b[39m=\u001b[39;49mcause,\n\u001b[1;32m    196\u001b[0m         type_override\u001b[39m=\u001b[39;49mtype_override,\n\u001b[1;32m    197\u001b[0m     )\n\u001b[1;32m    198\u001b[0m     \u001b[39massert\u001b[39;00m \u001b[39mFalse\u001b[39;00m\n",
      "File \u001b[0;32m~/repos/accsr_dat/venv/lib/python3.9/site-packages/omegaconf/_utils.py:818\u001b[0m, in \u001b[0;36mformat_and_raise\u001b[0;34m(node, key, value, msg, cause, type_override)\u001b[0m\n\u001b[1;32m    815\u001b[0m     ex\u001b[39m.\u001b[39mref_type \u001b[39m=\u001b[39m ref_type\n\u001b[1;32m    816\u001b[0m     ex\u001b[39m.\u001b[39mref_type_str \u001b[39m=\u001b[39m ref_type_str\n\u001b[0;32m--> 818\u001b[0m _raise(ex, cause)\n",
      "File \u001b[0;32m~/repos/accsr_dat/venv/lib/python3.9/site-packages/omegaconf/_utils.py:716\u001b[0m, in \u001b[0;36m_raise\u001b[0;34m(ex, cause)\u001b[0m\n\u001b[1;32m    714\u001b[0m \u001b[39melse\u001b[39;00m:\n\u001b[1;32m    715\u001b[0m     ex\u001b[39m.\u001b[39m__cause__ \u001b[39m=\u001b[39m \u001b[39mNone\u001b[39;00m\n\u001b[0;32m--> 716\u001b[0m \u001b[39mraise\u001b[39;00m ex\u001b[39m.\u001b[39mwith_traceback(sys\u001b[39m.\u001b[39mexc_info()[\u001b[39m2\u001b[39m])\n",
      "File \u001b[0;32m~/repos/accsr_dat/venv/lib/python3.9/site-packages/omegaconf/dictconfig.py:351\u001b[0m, in \u001b[0;36mDictConfig.__getattr__\u001b[0;34m(self, key)\u001b[0m\n\u001b[1;32m    348\u001b[0m     \u001b[39mraise\u001b[39;00m \u001b[39mAttributeError\u001b[39;00m()\n\u001b[1;32m    350\u001b[0m \u001b[39mtry\u001b[39;00m:\n\u001b[0;32m--> 351\u001b[0m     \u001b[39mreturn\u001b[39;00m \u001b[39mself\u001b[39;49m\u001b[39m.\u001b[39;49m_get_impl(key\u001b[39m=\u001b[39;49mkey, default_value\u001b[39m=\u001b[39;49m_DEFAULT_MARKER_)\n\u001b[1;32m    352\u001b[0m \u001b[39mexcept\u001b[39;00m ConfigKeyError \u001b[39mas\u001b[39;00m e:\n\u001b[1;32m    353\u001b[0m     \u001b[39mself\u001b[39m\u001b[39m.\u001b[39m_format_and_raise(\n\u001b[1;32m    354\u001b[0m         key\u001b[39m=\u001b[39mkey, value\u001b[39m=\u001b[39m\u001b[39mNone\u001b[39;00m, cause\u001b[39m=\u001b[39me, type_override\u001b[39m=\u001b[39mConfigAttributeError\n\u001b[1;32m    355\u001b[0m     )\n",
      "File \u001b[0;32m~/repos/accsr_dat/venv/lib/python3.9/site-packages/omegaconf/dictconfig.py:438\u001b[0m, in \u001b[0;36mDictConfig._get_impl\u001b[0;34m(self, key, default_value)\u001b[0m\n\u001b[1;32m    436\u001b[0m \u001b[39mdef\u001b[39;00m \u001b[39m_get_impl\u001b[39m(\u001b[39mself\u001b[39m, key: DictKeyType, default_value: Any) \u001b[39m-\u001b[39m\u001b[39m>\u001b[39m Any:\n\u001b[1;32m    437\u001b[0m     \u001b[39mtry\u001b[39;00m:\n\u001b[0;32m--> 438\u001b[0m         node \u001b[39m=\u001b[39m \u001b[39mself\u001b[39;49m\u001b[39m.\u001b[39;49m_get_node(key\u001b[39m=\u001b[39;49mkey, throw_on_missing_key\u001b[39m=\u001b[39;49m\u001b[39mTrue\u001b[39;49;00m)\n\u001b[1;32m    439\u001b[0m     \u001b[39mexcept\u001b[39;00m (ConfigAttributeError, ConfigKeyError):\n\u001b[1;32m    440\u001b[0m         \u001b[39mif\u001b[39;00m default_value \u001b[39mis\u001b[39;00m \u001b[39mnot\u001b[39;00m _DEFAULT_MARKER_:\n",
      "File \u001b[0;32m~/repos/accsr_dat/venv/lib/python3.9/site-packages/omegaconf/dictconfig.py:470\u001b[0m, in \u001b[0;36mDictConfig._get_node\u001b[0;34m(self, key, validate_access, throw_on_missing_value, throw_on_missing_key)\u001b[0m\n\u001b[1;32m    468\u001b[0m \u001b[39mif\u001b[39;00m value \u001b[39mis\u001b[39;00m \u001b[39mNone\u001b[39;00m:\n\u001b[1;32m    469\u001b[0m     \u001b[39mif\u001b[39;00m throw_on_missing_key:\n\u001b[0;32m--> 470\u001b[0m         \u001b[39mraise\u001b[39;00m ConfigKeyError(\u001b[39mf\u001b[39m\u001b[39m\"\u001b[39m\u001b[39mMissing key \u001b[39m\u001b[39m{\u001b[39;00mkey\u001b[39m}\u001b[39;00m\u001b[39m\"\u001b[39m)\n\u001b[1;32m    471\u001b[0m \u001b[39melif\u001b[39;00m throw_on_missing_value \u001b[39mand\u001b[39;00m value\u001b[39m.\u001b[39m_is_missing():\n\u001b[1;32m    472\u001b[0m     \u001b[39mraise\u001b[39;00m MissingMandatoryValue(\u001b[39m\"\u001b[39m\u001b[39mMissing mandatory value: $KEY\u001b[39m\u001b[39m\"\u001b[39m)\n",
      "\u001b[0;31mConfigAttributeError\u001b[0m: Missing key asr\n    full_key: asr\n    object_type=dict"
     ]
    }
   ],
   "source": [
    "# print the experiment folders of each experiment (both train and eval folders)\n",
    "print(\"Experiment folders:\\n\")\n",
    "for exp, folder in folders.items():\n",
    "    eval_folder = os.path.join(exp_dir, folder)\n",
    "    eval_config = OmegaConf.load(os.path.join(eval_folder, \"hparams.yaml\"))\n",
    "    train_folder = f'../{eval_config.asr.ckpt.replace(\"/checkpoints/last.ckpt\", \"\")}'\n",
    "    print(f\"- {exp}: training `{train_folder[3:]}`, evaluation `{eval_folder[3:]}`\")"
   ]
  },
  {
   "attachments": {},
   "cell_type": "markdown",
   "metadata": {},
   "source": [
    "### Conclusions:\n",
    "\n",
    "1. In comparison with AL, OneWay yields \\\n",
    "    a. Same WER for standard accent \\\n",
    "    b. Better WER for the other seen accents \\\n",
    "    c. Better WER for GB \\\n",
    "    d. Worse WER for US, CA and DE-NI\n"
   ]
  },
  {
   "cell_type": "markdown",
   "metadata": {},
   "source": []
  }
 ],
 "metadata": {
  "kernelspec": {
   "display_name": "Python 3",
   "language": "python",
   "name": "python3"
  },
  "language_info": {
   "codemirror_mode": {
    "name": "ipython",
    "version": 3
   },
   "file_extension": ".py",
   "mimetype": "text/x-python",
   "name": "python",
   "nbconvert_exporter": "python",
   "pygments_lexer": "ipython3",
   "version": "3.9.16"
  },
  "orig_nbformat": 4,
  "vscode": {
   "interpreter": {
    "hash": "bac90b33b2e8bf5368ff2c0ee0f6c7fcb3410fada8b1fda9f71f846ace4b0b44"
   }
  }
 },
 "nbformat": 4,
 "nbformat_minor": 2
}
