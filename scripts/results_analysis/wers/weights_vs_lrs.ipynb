{
 "cells": [
  {
   "attachments": {},
   "cell_type": "markdown",
   "metadata": {},
   "source": [
    "Plot the 3-worst WERs of the experiments of task weights and the experiments with learning rates. The y-axis is the 3-worst WER, and the x-axis is the ratio of the AC weight to the ASR weight for the first plot, and the ratio of the AC LR to the ASR LR for the second plot.\n",
    "\n",
    "- The rest of the config is the same for both experiments. They are performed on B10.\n",
    "- All task weight experiments are performed with the learning rate recommended by Nvidia to fine-tune the ASR model.\n",
    "- All LR experiments are performed with AC weight = 0.1 (coupled)."
   ]
  },
  {
   "cell_type": "code",
   "execution_count": 1,
   "metadata": {},
   "outputs": [],
   "source": [
    "import os\n",
    "import json\n",
    "import numpy as np\n",
    "from omegaconf import OmegaConf\n",
    "from matplotlib import pyplot as plt\n",
    "import matplotlib"
   ]
  },
  {
   "cell_type": "code",
   "execution_count": 29,
   "metadata": {},
   "outputs": [],
   "source": [
    "# increase the figure size and the font size\n",
    "matplotlib.rcParams[\"figure.figsize\"] = (6, 4)\n",
    "matplotlib.rcParams.update({'font.size': 18})"
   ]
  },
  {
   "cell_type": "code",
   "execution_count": 3,
   "metadata": {},
   "outputs": [],
   "source": [
    "# set the folder where the evaluation jobs are stored\n",
    "eval_dir = \"../../../logs/de/asr/evaluate\"\n",
    "\n",
    "# set the exp. types as keys and their experiments in the list\n",
    "folders = {\n",
    "    \"w\": [\n",
    "        \"version_32\",\n",
    "        \"version_35\",\n",
    "        \"version_40\",\n",
    "    ],\n",
    "    \"lr\": [\n",
    "        \"version_26\",\n",
    "        \"version_32\",\n",
    "        \"version_41\",\n",
    "    ]\n",
    "}"
   ]
  },
  {
   "cell_type": "code",
   "execution_count": 4,
   "metadata": {},
   "outputs": [],
   "source": [
    "# convert the lists of experiments into dictionaries\n",
    "for exp_type in folders:\n",
    "    folders[exp_type] = {exp: dict() for exp in folders[exp_type]}"
   ]
  },
  {
   "cell_type": "code",
   "execution_count": 5,
   "metadata": {},
   "outputs": [],
   "source": [
    "# find weights of weight experiments\n",
    "for folder in folders[\"w\"]:\n",
    "    config = OmegaConf.load(os.path.join(eval_dir, folder, \"hparams.yaml\"))\n",
    "    exp_folder = f'../{config.asr.ckpt.replace(\"/checkpoints/last.ckpt\", \"\")}'\n",
    "    exp_config = OmegaConf.load(os.path.join(exp_folder, \"hparams.yaml\"))\n",
    "    if \"weight\" in exp_config.ensemble:  # weights are coupled\n",
    "        folders[\"w\"][folder] = {\n",
    "            \"ac\": exp_config.ensemble.weight,\n",
    "            \"asr\": 1 - exp_config.ensemble.weight,\n",
    "        }\n",
    "    else:  # weights are decoupled\n",
    "        folders[\"w\"][folder] = {\n",
    "            \"ac\": exp_config.ensemble.ac_weight,\n",
    "            \"asr\": exp_config.ensemble.asr_weight,\n",
    "        }      \n",
    "        "
   ]
  },
  {
   "cell_type": "code",
   "execution_count": 6,
   "metadata": {},
   "outputs": [],
   "source": [
    "# find LRs of LR experiments\n",
    "for folder in folders[\"lr\"]:\n",
    "    config = OmegaConf.load(os.path.join(eval_dir, folder, \"hparams.yaml\"))\n",
    "    exp_folder = f'../{config.asr.ckpt.replace(\"/checkpoints/last.ckpt\", \"\")}'\n",
    "    exp_config = OmegaConf.load(os.path.join(exp_folder, \"hparams.yaml\"))\n",
    "    folders[\"lr\"][folder] = {\"asr\": exp_config.optim.lr}\n",
    "    if \"ac_args\" in exp_config.optim:\n",
    "        folders[\"lr\"][folder][\"ac\"] = exp_config.optim.ac_args.lr\n",
    "    else:\n",
    "        folders[\"lr\"][folder][\"ac\"] = folders[\"lr\"][folder][\"asr\"]"
   ]
  },
  {
   "cell_type": "code",
   "execution_count": 7,
   "metadata": {},
   "outputs": [
    {
     "name": "stdout",
     "output_type": "stream",
     "text": [
      "{'ac': 0.1, 'asr': 0.9, 'avg. WER': 3.065591235887297, 'worst-3 WER': 4.958345943341769, 'seen WER': 2.3114270104977073, 'unseen WER': 3.348402820408394}\n"
     ]
    }
   ],
   "source": [
    "# compute the avg. WER and the worst-3 WER for all experiments\n",
    "seen_accents = [\"de\", \"ch\", \"at\"]\n",
    "for exp_type in folders:\n",
    "    for exp in folders[exp_type]:\n",
    "        wers_dict = json.load(open(os.path.join(eval_dir, exp, \"avg_wers.json\")))\n",
    "        wers_dict = {k.replace(\"test_\", \"\").replace(\".txt\", \"\"): v for k, v in wers_dict.items()}\n",
    "        wers = np.array([d[\"avg_wer\"] for d in wers_dict.values()])\n",
    "        folders[exp_type][exp][\"avg. WER\"] = np.mean(wers)*100\n",
    "        folders[exp_type][exp][\"worst-3 WER\"] = np.mean(np.sort(wers, axis=0)[-3:])*100\n",
    "        folders[exp_type][exp][\"seen WER\"] = np.mean([v[\"avg_wer\"] for k, v in wers_dict.items() if k in seen_accents])*100\n",
    "        folders[exp_type][exp][\"unseen WER\"] = np.mean([v[\"avg_wer\"] for k, v in wers_dict.items() if k not in seen_accents])*100\n",
    "\n",
    "# print one experiment to check the calculations are right\n",
    "print(folders[\"w\"][\"version_32\"])\n"
   ]
  },
  {
   "cell_type": "code",
   "execution_count": 76,
   "metadata": {},
   "outputs": [],
   "source": [
    "# plot the WER against the ratio, with a different x-axis per exp. type\n",
    "def plot_wers(folders, wer_key):\n",
    "\n",
    "    # compute the x and y arrays for each experiment type and sort them\n",
    "    xs, ys = list(), list()\n",
    "    for i, exp_type in enumerate(folders):\n",
    "        x = np.array([exp[\"ac\"] for exp in folders[exp_type].values()])\n",
    "        y = np.array([exp[wer_key] for exp in folders[exp_type].values()])\n",
    "        sort_idx = np.argsort(x)\n",
    "        xs.append(x[sort_idx])\n",
    "        ys.append(y[sort_idx])\n",
    "\n",
    "    # plot the lines\n",
    "    fig, ax = plt.subplots()\n",
    "    line = ax.plot(xs[0], ys[0], label=\"Weights\", color=\"blue\")\n",
    "    ax2 = ax.twiny()\n",
    "    line2 = ax2.plot(xs[1], ys[1], label=\"LRs\", color=\"red\")\n",
    "    lines = line + line2\n",
    "    ax.legend(lines, [l.get_label() for l in lines], loc='upper left')\n",
    "\n",
    "    # add axis labels\n",
    "    ax.set_ylabel(\"WER (log.)\")\n",
    "    ax.set_xlabel(\"Classifier weight\")\n",
    "    ax2.set_xlabel(\"Classifier LR\")\n",
    "\n",
    "    # set the x-axis ticks to the values of the data and LRs in scientific notation\n",
    "    ax.set_xticks(ticks=xs[0], labels=xs[0])\n",
    "    ax2.set_xscale(\"log\")\n",
    "    ax2.set_xticks(ticks=xs[1], labels=[f\"{x:.0e}\".replace(\"-0\", \"-\") for x in xs[1]])\n",
    "\n",
    "    # set y-axis scale to log and ticks to actual values\n",
    "    ax.set_yscale(\"log\")\n",
    "    ax.set_yticks(ticks=[2, 5, 10, 20, 50])\n",
    "    ax.get_yaxis().set_major_formatter(matplotlib.ticker.ScalarFormatter())"
   ]
  },
  {
   "cell_type": "code",
   "execution_count": 77,
   "metadata": {},
   "outputs": [
    {
     "data": {
      "image/png": "[encoded data removed]",
      "text/plain": [
       "<Figure size 432x288 with 2 Axes>"
      ]
     },
     "metadata": {
      "needs_background": "light"
     },
     "output_type": "display_data"
    }
   ],
   "source": [
    "plot_wers(folders, \"avg. WER\")"
   ]
  },
  {
   "attachments": {},
   "cell_type": "markdown",
   "metadata": {},
   "source": [
    "These plots show that modifying the LRs is better than modifying the task weights. Now we want to show how modifying the LRs controls the influence of the AC, which is proven by a better 3-worst WER"
   ]
  },
  {
   "cell_type": "code",
   "execution_count": 16,
   "metadata": {},
   "outputs": [
    {
     "data": {
      "text/plain": [
       "([<matplotlib.axis.YTick at 0x7f90f031a280>,\n",
       "  <matplotlib.axis.YTick at 0x7f90f0314ac0>,\n",
       "  <matplotlib.axis.YTick at 0x7f90f030db50>,\n",
       "  <matplotlib.axis.YTick at 0x7f91107f20a0>],\n",
       " [Text(0, 0, ''), Text(0, 0, ''), Text(0, 0, ''), Text(0, 0, '')])"
      ]
     },
     "execution_count": 16,
     "metadata": {},
     "output_type": "execute_result"
    },
    {
     "data": {
      "image/png": "[encoded data removed]",
      "text/plain": [
       "<Figure size 360x288 with 1 Axes>"
      ]
     },
     "metadata": {
      "needs_background": "light"
     },
     "output_type": "display_data"
    }
   ],
   "source": [
    "x = np.array([exp[\"ac\"] for exp in folders[\"lr\"].values()])\n",
    "keys = [\"avg. WER\", \"seen WER\", \"unseen WER\", \"worst-3 WER\"]\n",
    "sort_idx = np.argsort(x)\n",
    "# plot the value of each key for each experiment in a different color\n",
    "for key in keys:\n",
    "    y = np.array([exp[key] for exp in folders[\"lr\"].values()])\n",
    "    plt.plot(x[sort_idx], y[sort_idx], label=key.replace(\" WER\", \"\"))\n",
    "\n",
    "# plot the legend above the plot in one line\n",
    "plt.legend(loc='upper center', bbox_to_anchor=(0.5, 1.2), ncol=4)\n",
    "plt.xlabel(\"AC LR\")\n",
    "plt.ylabel(\"WER\")\n",
    "plt.xscale(\"log\")\n",
    "plt.xticks(ticks=x, labels=[f\"{x:.0e}\".replace(\"-0\", \"-\") for x in x])\n",
    "plt.yticks(ticks=[2,3,4,5])"
   ]
  },
  {
   "attachments": {},
   "cell_type": "markdown",
   "metadata": {},
   "source": [
    "Worst-3 accents decrease more than the rest: what is the improvement for each of these accent groups?"
   ]
  },
  {
   "cell_type": "code",
   "execution_count": 83,
   "metadata": {},
   "outputs": [
    {
     "name": "stdout",
     "output_type": "stream",
     "text": [
      "avg. WER 0.42 0.46\n",
      "rel. improvement 0.14 0.15\n",
      "seen WER 0.29 0.3\n",
      "rel. improvement 0.13 0.13\n",
      "unseen WER 0.47 0.52\n",
      "rel. improvement 0.14 0.15\n",
      "worst-3 WER 0.74 0.79\n",
      "rel. improvement 0.15 0.16\n"
     ]
    }
   ],
   "source": [
    "x = np.array([exp[\"ac\"] for exp in folders[\"lr\"].values()])\n",
    "sort_idx = np.argsort(x)\n",
    "for key in [\"avg. WER\", \"seen WER\", \"unseen WER\", \"worst-3 WER\"]:\n",
    "    y = np.array([exp[key] for exp in folders[\"lr\"].values()])[sort_idx]\n",
    "    print(key, round(y[0] - y[1], 2), round(y[0] - y[2], 2))\n",
    "    print(\"rel. improvement\", round((y[0] - y[1])/y[0], 2), round((y[0] - y[2])/y[0], 2))\n"
   ]
  },
  {
   "cell_type": "code",
   "execution_count": 12,
   "metadata": {},
   "outputs": [
    {
     "name": "stdout",
     "output_type": "stream",
     "text": [
      "avg. WER [3.06559124 2.64639351 2.60636305]\n",
      "seen WER [2.31142701 2.01842582 2.00647416]\n",
      "unseen WER [3.34840282 2.88188139 2.83132138]\n",
      "worst-3 WER [4.95834594 4.22200772 4.17249755]\n"
     ]
    }
   ],
   "source": [
    "x = np.array([exp[\"ac\"] for exp in folders[\"lr\"].values()])\n",
    "sort_idx = np.argsort(x)\n",
    "for key in [\"avg. WER\", \"seen WER\", \"unseen WER\", \"worst-3 WER\"]:\n",
    "    y = np.array([exp[key] for exp in folders[\"lr\"].values()])[sort_idx]\n",
    "    print(key, y)"
   ]
  }
 ],
 "metadata": {
  "kernelspec": {
   "display_name": "Python 3",
   "language": "python",
   "name": "python3"
  },
  "language_info": {
   "codemirror_mode": {
    "name": "ipython",
    "version": 3
   },
   "file_extension": ".py",
   "mimetype": "text/x-python",
   "name": "python",
   "nbconvert_exporter": "python",
   "pygments_lexer": "ipython3",
   "version": "3.9.16"
  },
  "orig_nbformat": 4,
  "vscode": {
   "interpreter": {
    "hash": "bac90b33b2e8bf5368ff2c0ee0f6c7fcb3410fada8b1fda9f71f846ace4b0b44"
   }
  }
 },
 "nbformat": 4,
 "nbformat_minor": 2
}
