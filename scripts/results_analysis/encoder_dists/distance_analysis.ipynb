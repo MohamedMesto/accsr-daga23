{
 "cells": [
  {
   "cell_type": "code",
   "execution_count": 1,
   "metadata": {},
   "outputs": [],
   "source": [
    "import numpy as np\n",
    "import json\n",
    "import matplotlib.pyplot as plt"
   ]
  },
  {
   "cell_type": "code",
   "execution_count": 12,
   "metadata": {},
   "outputs": [
    {
     "name": "stdout",
     "output_type": "stream",
     "text": [
      "['de', 'at', 'ch', 'ca', 'it', 'ru', 'us', 'gb', 'fr', 'de_al', 'de_ni']\n"
     ]
    }
   ],
   "source": [
    "emd = {\n",
    "    \"FT\": np.load('../../../logs/de/analysis/version_1/tsne/b10/emd.npy'),  # fine-tuned\n",
    "    \"BL\": np.load('../../../logs/de/analysis/version_4/tsne/b10/emd.npy'),  # baseline (normal training without an AC)\n",
    "    \"AL\": np.load('../../../logs/de/analysis/version_2/tsne/b10/emd.npy'),  # adversarial learning\n",
    "    \"OW\": np.load('../../../logs/de/analysis/version_0/tsne/b10/emd.npy'),  # one-way AL\n",
    "}\n",
    "labels = json.load(open('../../logs/de/analysis/version_0/langs.json'))\n",
    "print(labels)"
   ]
  },
  {
   "cell_type": "code",
   "execution_count": 16,
   "metadata": {},
   "outputs": [],
   "source": [
    "# define which accent is standard, which are seen and which are unseen\n",
    "classes = {\n",
    "    \"std.\": [\"de\"],\n",
    "    \"seen\": [\"ch\", \"at\"],\n",
    "    \"unseen\": [\"gb\", \"it\", \"de_al\", \"fr\", \"de_ni\", \"us\", \"ca\", \"ru\"],\n",
    "}"
   ]
  },
  {
   "cell_type": "code",
   "execution_count": 20,
   "metadata": {},
   "outputs": [
    {
     "name": "stdout",
     "output_type": "stream",
     "text": [
      "EMD distances from standard accent (DE)\n",
      "acc\tFT\tBL\tAL\tOW\n",
      "de\t0.0\t0.0\t0.0\t0.0\t\n",
      "at\t3.0\t0.9\t1.2\t1.3\t\n",
      "ch\t4.7\t3.0\t1.3\t2.6\t\n",
      "ca\t9.2\t3.5\t5.5\t3.8\t\n",
      "it\t8.2\t1.7\t3.7\t1.5\t\n",
      "ru\t5.8\t5.0\t2.7\t4.1\t\n",
      "us\t11.3\t3.6\t4.6\t2.6\t\n",
      "gb\t7.9\t4.6\t3.6\t4.3\t\n",
      "fr\t8.5\t6.1\t4.6\t4.9\t\n",
      "de_al\t4.8\t4.6\t3.8\t5.1\t\n",
      "de_ni\t1.7\t1.7\t2.6\t1.8\t\n"
     ]
    }
   ],
   "source": [
    "print(\"EMD distances from standard accent (DE)\")\n",
    "print(\"\\t\".join([\"acc\"] + list(emd.keys())))\n",
    "for i in range(len(labels)):\n",
    "    print(labels[i], end=\"\\t\")\n",
    "    for exp in emd:\n",
    "        print(round(emd[exp][0, i], 1), end=\"\\t\")\n",
    "    print()"
   ]
  },
  {
   "attachments": {},
   "cell_type": "markdown",
   "metadata": {},
   "source": [
    "### Findings\n",
    "\n",
    "- Baseline's AT is closer to DE (0.9) than CH (3)\n",
    "- Both AL methods' AT are further away from DE (1.2, 1.3)\n",
    "- Both AL methods' CH are closer to DE (1.3, 2.6)\n",
    "- AL's CH is as close to DE (1.3) as AT (1.2)"
   ]
  },
  {
   "cell_type": "code",
   "execution_count": 19,
   "metadata": {},
   "outputs": [
    {
     "name": "stdout",
     "output_type": "stream",
     "text": [
      "EMD distances from standard accent (DE) aggregated by class\n",
      "class\tFT\tBL\tAL\tOW\n",
      "std.\t0.0\t0.0\t0.0\t0.0\t\n",
      "seen\t3.9\t2.0\t1.2\t1.9\t\n",
      "unseen\t7.2\t3.8\t3.9\t3.5\t\n"
     ]
    }
   ],
   "source": [
    "print(\"EMD distances from standard accent (DE) aggregated by class\")\n",
    "print(\"\\t\".join([\"class\"] + list(emd.keys())))\n",
    "for c in classes:\n",
    "    print(c, end=\"\\t\")\n",
    "    indices = [labels.index(l) for l in classes[c]]\n",
    "    for exp in emd:\n",
    "        print(round(np.mean(emd[exp][0, indices]), 1), end=\"\\t\")\n",
    "    print()\n"
   ]
  },
  {
   "attachments": {},
   "cell_type": "markdown",
   "metadata": {},
   "source": [
    "### Findings\n",
    "\n",
    "- All methods improve over the fine-tuned model\n",
    "    - Normal training already generates accent-invariant representations (Adi)\n",
    "- AL's seen accents are closer to DE (1.2) than those of the other methods (2, 1.9)\n",
    "- OW's unseen accents are closer to DE (3.5) than those of the other methods (3.8, 3.9)\n",
    "    - OW is the most succesful at bringing the unseen accents' representations closer to the standard representations."
   ]
  },
  {
   "cell_type": "code",
   "execution_count": 31,
   "metadata": {},
   "outputs": [
    {
     "name": "stdout",
     "output_type": "stream",
     "text": [
      "EMD distances from seen accents\n",
      "unseen\tseen\tFT\tBL\tAL\tOW\n",
      "ca\tde\t9.2\t3.5\t5.5\t3.8\t\n",
      "ca\tat\t6.2\t3.7\t4.7\t3.6\t\n",
      "ca\tch\t4.6\t2.6\t5.7\t2.6\t\n",
      "it\tde\t8.2\t1.7\t3.7\t1.5\t\n",
      "it\tat\t5.2\t1.1\t2.9\t1.6\t\n",
      "it\tch\t3.7\t3.2\t3.8\t2.7\t\n",
      "ru\tde\t5.8\t5.0\t2.7\t4.1\t\n",
      "ru\tat\t3.3\t4.7\t2.2\t5.1\t\n",
      "ru\tch\t3.1\t8.0\t3.4\t6.6\t\n",
      "us\tde\t11.3\t3.6\t4.6\t2.6\t\n",
      "us\tat\t8.3\t3.1\t3.7\t2.1\t\n",
      "us\tch\t6.6\t4.2\t4.8\t3.6\t\n",
      "gb\tde\t7.9\t4.6\t3.6\t4.3\t\n",
      "gb\tat\t4.9\t4.0\t3.1\t5.1\t\n",
      "gb\tch\t4.2\t7.2\t4.4\t6.7\t\n",
      "fr\tde\t8.5\t6.1\t4.6\t4.9\t\n",
      "fr\tat\t6.2\t5.6\t4.1\t5.8\t\n",
      "fr\tch\t5.7\t8.6\t5.4\t7.4\t\n",
      "de_al\tde\t4.8\t4.6\t3.8\t5.1\t\n",
      "de_al\tat\t4.0\t5.1\t3.9\t5.3\t\n",
      "de_al\tch\t4.0\t4.0\t2.9\t3.8\t\n",
      "de_ni\tde\t1.7\t1.7\t2.6\t1.8\t\n",
      "de_ni\tat\t4.0\t2.2\t3.2\t1.6\t\n",
      "de_ni\tch\t5.6\t2.3\t2.1\t2.5\t\n"
     ]
    }
   ],
   "source": [
    "print(\"EMD distances from seen accents\")\n",
    "print(\"\\t\".join([\"unseen\", \"seen\"] + list(emd.keys())))\n",
    "for idx_unseen in range(3, len(labels)):\n",
    "    for idx_seen in range(3):\n",
    "        print(\"\\t\".join([labels[idx_unseen], labels[idx_seen]]), end=\"\\t\")\n",
    "        for exp in emd:\n",
    "            print(round(emd[exp][idx_unseen, idx_seen], 1), end=\"\\t\")\n",
    "        print()"
   ]
  },
  {
   "cell_type": "code",
   "execution_count": 35,
   "metadata": {},
   "outputs": [
    {
     "name": "stdout",
     "output_type": "stream",
     "text": [
      "Closest seen accent for each unseen accent\n",
      "unseen\tFT\tBL\tAL\tOW\n",
      "ca\tch (4.6)\tch (2.6)\tat (4.7)\tch (2.6)\t\n",
      "it\tch (3.7)\tat (1.1)\tat (2.9)\tde (1.5)\t\n",
      "ru\tch (3.1)\tat (4.7)\tat (2.2)\tde (4.1)\t\n",
      "us\tch (6.6)\tat (3.1)\tat (3.7)\tat (2.1)\t\n",
      "gb\tch (4.2)\tat (4.0)\tat (3.1)\tde (4.3)\t\n",
      "fr\tch (5.7)\tat (5.6)\tat (4.1)\tde (4.9)\t\n",
      "de_al\tch (4.0)\tch (4.0)\tch (2.9)\tch (3.8)\t\n",
      "de_ni\tde (1.7)\tde (1.7)\tch (2.1)\tat (1.6)\t\n"
     ]
    }
   ],
   "source": [
    "# to which seen accent are the unseen accents closest?\n",
    "print(\"Closest seen accent for each unseen accent\")\n",
    "print(\"\\t\".join([\"unseen\"] + list(emd.keys())))\n",
    "for idx_unseen in range(3, len(labels)):\n",
    "    print(labels[idx_unseen], end=\"\\t\")\n",
    "    for exp in emd:\n",
    "        # print the minimum of this accent to the seen accents\n",
    "        argmin = np.argmin(emd[exp][idx_unseen, :3])\n",
    "        print(f\"{labels[argmin]} ({round(emd[exp][idx_unseen, argmin], 1)})\", end=\"\\t\")\n",
    "    print()"
   ]
  },
  {
   "cell_type": "code",
   "execution_count": 37,
   "metadata": {},
   "outputs": [
    {
     "data": {
      "image/png": "[encoded data removed]",
      "text/plain": [
       "<Figure size 1296x360 with 3 Axes>"
      ]
     },
     "metadata": {
      "needs_background": "light"
     },
     "output_type": "display_data"
    }
   ],
   "source": [
    "# for each unseen accent, plot the distances to the seen accents for all methods\n",
    "x = np.arange(len(labels[3:]))\n",
    "width = .3\n",
    "# create three axes, one for each seen accent; they share the y-axis\n",
    "fig, axes = plt.subplots(1, 3, sharey=True)\n",
    "# increase width of figure\n",
    "fig.set_size_inches(18, 5)\n",
    "for idx_seen in range(3):\n",
    "    axes[idx_seen].bar(x-width/2, emd[\"AL\"][3:, idx_seen], width=width, label=\"AL\")\n",
    "    axes[idx_seen].bar(x+width/2, emd[\"OW\"][3:, idx_seen], width=width, label=\"OneWay\")\n",
    "    axes[idx_seen].legend()\n",
    "    axes[idx_seen].set_title(f\"Distances from {labels[idx_seen]}\")\n",
    "    axes[idx_seen].set_xticks(x, labels[3:])\n",
    "plt.show()"
   ]
  },
  {
   "cell_type": "code",
   "execution_count": null,
   "metadata": {},
   "outputs": [],
   "source": []
  },
  {
   "attachments": {},
   "cell_type": "markdown",
   "metadata": {},
   "source": [
    "### Conclusions\n",
    "\n",
    "- There is an inverse correlation between the four worse accents w.r.t. WER and their distances to the seen accents\n",
    "    - GB is better for OneWay, but is closer to the seen accents for AL\n",
    "    - US, CA, DE-NI is better for AL, but is closer to the seen accents for OneWay (except DE-NI for CH)\n",
    "    - AT and CH are closer to DE for AL, but the WER is better for OneWay"
   ]
  },
  {
   "cell_type": "markdown",
   "metadata": {},
   "source": []
  }
 ],
 "metadata": {
  "kernelspec": {
   "display_name": "Python 3",
   "language": "python",
   "name": "python3"
  },
  "language_info": {
   "codemirror_mode": {
    "name": "ipython",
    "version": 3
   },
   "file_extension": ".py",
   "mimetype": "text/x-python",
   "name": "python",
   "nbconvert_exporter": "python",
   "pygments_lexer": "ipython3",
   "version": "3.9.16"
  },
  "orig_nbformat": 4,
  "vscode": {
   "interpreter": {
    "hash": "bac90b33b2e8bf5368ff2c0ee0f6c7fcb3410fada8b1fda9f71f846ace4b0b44"
   }
  }
 },
 "nbformat": 4,
 "nbformat_minor": 2
}
