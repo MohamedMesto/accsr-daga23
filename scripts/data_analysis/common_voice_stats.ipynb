{
 "cells": [
  {
   "cell_type": "code",
   "execution_count": 4,
   "metadata": {},
   "outputs": [],
   "source": [
    "import numpy as np\n",
    "import pandas as pd"
   ]
  },
  {
   "cell_type": "code",
   "execution_count": 5,
   "metadata": {},
   "outputs": [],
   "source": [
    "common_voice_location = '/Users/cafr02/datasets/cv-corpus-10.0-2022-07-04/en/validated.tsv'"
   ]
  },
  {
   "cell_type": "code",
   "execution_count": 6,
   "metadata": {},
   "outputs": [
    {
     "name": "stderr",
     "output_type": "stream",
     "text": [
      "/var/folders/c1/9nmvdm110w1fbxf4v8r6wrv40000gr/T/ipykernel_49469/2681723085.py:1: DtypeWarning: Columns (9) have mixed types. Specify dtype option on import or set low_memory=False.\n",
      "  data = pd.read_csv(common_voice_location, sep='\\t')\n"
     ]
    }
   ],
   "source": [
    "data = pd.read_csv(common_voice_location, sep='\\t')"
   ]
  },
  {
   "cell_type": "code",
   "execution_count": 7,
   "metadata": {},
   "outputs": [
    {
     "data": {
      "text/plain": [
       "Index(['client_id', 'path', 'sentence', 'up_votes', 'down_votes', 'age',\n",
       "       'gender', 'accents', 'locale', 'segment'],\n",
       "      dtype='object')"
      ]
     },
     "execution_count": 7,
     "metadata": {},
     "output_type": "execute_result"
    }
   ],
   "source": [
    "data.columns"
   ]
  },
  {
   "cell_type": "code",
   "execution_count": 8,
   "metadata": {},
   "outputs": [],
   "source": [
    "total_len = len(data.index)"
   ]
  },
  {
   "cell_type": "code",
   "execution_count": 9,
   "metadata": {},
   "outputs": [
    {
     "data": {
      "text/plain": [
       "176"
      ]
     },
     "execution_count": 9,
     "metadata": {},
     "output_type": "execute_result"
    }
   ],
   "source": [
    "unique_accents = data.accents.unique()\n",
    "len(unique_accents)"
   ]
  },
  {
   "cell_type": "code",
   "execution_count": 14,
   "metadata": {},
   "outputs": [
    {
     "data": {
      "text/plain": [
       "United States English                                            382626\n",
       "England English                                                  134126\n",
       "India and South Asia (India, Pakistan, Sri Lanka)                 99613\n",
       "Canadian English                                                  59342\n",
       "Australian English                                                51108\n",
       "German English,Non native speaker                                 40897\n",
       "Scottish English                                                  15474\n",
       "New Zealand English                                               11877\n",
       "Irish English                                                      9461\n",
       "Southern African (South Africa, Zimbabwe, Namibia)                 8374\n",
       "Northern Irish                                                     5968\n",
       "Filipino                                                           5105\n",
       "Hong Kong English                                                  4260\n",
       "Singaporean English                                                3365\n",
       "England English,New Zealand English                                2046\n",
       "Malaysian English                                                  1772\n",
       "Welsh English                                                      1632\n",
       "West Indies and Bermuda (Bahamas, Bermuda, Jamaica, Trinidad)       699\n",
       "southern United States,United States English                        296\n",
       "United States English,Midwestern,Minnesotan                         248\n",
       "Name: accents, dtype: int64"
      ]
     },
     "execution_count": 14,
     "metadata": {},
     "output_type": "execute_result"
    }
   ],
   "source": [
    "number_per_accent = data.accents.value_counts()\n",
    "number_per_accent[:20]"
   ]
  },
  {
   "cell_type": "code",
   "execution_count": 11,
   "metadata": {},
   "outputs": [
    {
     "data": {
      "text/plain": [
       "0.5298320597232888"
      ]
     },
     "execution_count": 11,
     "metadata": {},
     "output_type": "execute_result"
    }
   ],
   "source": [
    "percentage_accent_annotated = sum(number_per_accent)/total_len\n",
    "percentage_accent_annotated"
   ]
  },
  {
   "cell_type": "code",
   "execution_count": 12,
   "metadata": {},
   "outputs": [
    {
     "name": "stdout",
     "output_type": "stream",
     "text": [
      "nan #speakers: 0\n",
      "England English,United States English #speakers: 8\n",
      "Hong Kong English #speakers: 129\n",
      "United States English,American Midwest #speakers: 1\n",
      "England English #speakers: 2249\n",
      "United States English #speakers: 7325\n",
      "United States English,wolof #speakers: 1\n",
      "Australian English #speakers: 647\n",
      "Southern African (South Africa, Zimbabwe, Namibia) #speakers: 253\n",
      "India and South Asia (India, Pakistan, Sri Lanka) #speakers: 1953\n",
      "United States English,midwestern US #speakers: 1\n",
      "Australian English,England English,Japanese #speakers: 1\n",
      "Canadian English #speakers: 876\n",
      "Scottish English #speakers: 161\n",
      "Filipino #speakers: 123\n",
      "A'lo #speakers: 1\n",
      "Swedish English #speakers: 1\n",
      "England English,Southern England #speakers: 1\n",
      "United States English,i have some pronunciation issues because of oral surgery and a hidden southern accent #speakers: 1\n",
      "Finnish #speakers: 1\n",
      "United States English,Spoke Chinese when little,90% Pennsylvanian accent, 10% Chinese accent #speakers: 1\n",
      "Singaporean English #speakers: 73\n",
      "West Indies and Bermuda (Bahamas, Bermuda, Jamaica, Trinidad) #speakers: 46\n",
      "Spanish bilingual #speakers: 1\n",
      "Irish English #speakers: 185\n",
      "United States English,England English #speakers: 11\n",
      "United States English,Silicon Valley Native #speakers: 1\n",
      "Not bad #speakers: 1\n",
      "United States English,Canadian English,Indo-Canadian English #speakers: 1\n",
      "United States English,Northern,Urban #speakers: 1\n",
      "Malaysian English #speakers: 94\n",
      "New Zealand English #speakers: 150\n",
      "Australian English,Educated Australian Accent #speakers: 1\n",
      "Eastern European,Romanian #speakers: 1\n",
      "United States English,India and South Asia (India, Pakistan, Sri Lanka) #speakers: 2\n",
      "English north of England  #speakers: 1\n",
      "India and South Asia (India, Pakistan, Sri Lanka),United States English #speakers: 3\n",
      "northern cali #speakers: 1\n",
      "Mild Northern England English #speakers: 1\n",
      "Выраженный украинский акцент #speakers: 1\n",
      "slighty Southern affected by decades in the Midwest, 4 years in Spain and Germany, speak some German, Spanish, Polish. Have lived in nine states. #speakers: 1\n",
      "Catalan #speakers: 1\n",
      "United States English,southern United States #speakers: 1\n",
      "European English,French,Romanian #speakers: 1\n",
      "United States English,pin/pen merger #speakers: 1\n",
      "Latin American accent #speakers: 1\n",
      "England English,Hong Kong English #speakers: 1\n",
      "India and South Asia (India, Pakistan, Sri Lanka),Basic #speakers: 1\n",
      "East London  #speakers: 1\n",
      "Russian,East Ukrainian  #speakers: 1\n",
      "United States English,Variable #speakers: 1\n",
      "United States English,United States English. people say I sound like a surffer dude. #speakers: 1\n",
      "Colombian Accent #speakers: 1\n",
      "West Indian #speakers: 1\n",
      "New Zealand English,United States English #speakers: 1\n",
      "United States English,England English,Hong Kong English #speakers: 1\n",
      "Welsh English #speakers: 64\n",
      "Northern Irish #speakers: 2\n",
      "Scottish English,Scottish #speakers: 1\n",
      "United States English combined with European English #speakers: 1\n",
      "Swedish accent #speakers: 1\n",
      "Japanese English #speakers: 2\n",
      "United States English,Canadian English,slight Brooklyn Accent #speakers: 1\n",
      "Afrikaans English #speakers: 1\n",
      "Slavic #speakers: 3\n",
      "East Indian #speakers: 1\n",
      "England English,Lancashire, England  #speakers: 1\n",
      "Israeli's accent  #speakers: 1\n",
      "England English,London English #speakers: 1\n",
      "German English #speakers: 3\n",
      "United States English,Chicago  #speakers: 1\n",
      "India and South Asia (India, Pakistan, Sri Lanka),Canadian English #speakers: 1\n",
      "England English,yorkshire #speakers: 1\n",
      "India and South Asia (India, Pakistan, Sri Lanka),England English #speakers: 1\n",
      "German #speakers: 3\n",
      "United States English,Okie #speakers: 1\n",
      "United States English,England English,India and South Asia (India, Pakistan, Sri Lanka) #speakers: 2\n",
      "West Indies and Bermuda (Bahamas, Bermuda, Jamaica, Trinidad),Patois #speakers: 1\n",
      "Latin English #speakers: 1\n",
      "Hong Kong English,Scottish English #speakers: 1\n",
      "South Atlantic (Falkland Islands, Saint Helena) #speakers: 5\n",
      "United States English,Southern Appalachian English,Southern United States English #speakers: 1\n",
      "Canadian English,United States English,England English #speakers: 1\n",
      "United States English,Midwestern #speakers: 2\n",
      "England English,Porto des dels 3 anys aprenent anglès a l'escola i actualment m'estic preparant per a l'examen del B2. #speakers: 1\n",
      "Southern Texas Accent,United States English #speakers: 1\n",
      "Russian #speakers: 3\n",
      "European,eastern europe,pronounced r's,heavy consonants  #speakers: 1\n",
      "Norwegian #speakers: 1\n",
      "India and South Asia (India, Pakistan, Sri Lanka),Indian with a tinge of an RP accent #speakers: 1\n",
      "Australian English,Sydney - middle eastern seaboard Australian #speakers: 1\n",
      "United States English,Kenyan English #speakers: 1\n",
      "Bangladeshi,Bangladesh English #speakers: 1\n",
      "Slavic,Russian #speakers: 1\n",
      "Eastern European English #speakers: 2\n",
      "United States English,little bit classy little bit sassy and add some city.....thats me #speakers: 1\n",
      "United States English,Australian English,England English,New Zealand English,India and South Asia (India, Pakistan, Sri Lanka),international,Slovak #speakers: 1\n",
      "Slavic,polish #speakers: 1\n",
      "United States English,Midwestern United States English #speakers: 2\n",
      "polish accent #speakers: 1\n",
      "United States English,Slight lisp #speakers: 1\n",
      "United States English,Australian English #speakers: 1\n",
      "German Accent #speakers: 1\n",
      "Slavic,East European,polish #speakers: 1\n",
      "French #speakers: 1\n",
      "England English,Scottish English #speakers: 1\n",
      "United States English,Canadian English #speakers: 1\n",
      "India and South Asia (India, Pakistan, Sri Lanka),International Indian Accent #speakers: 1\n",
      "United States English,new england/east coast #speakers: 1\n",
      "United States English,Chicano English,\"Valley Girl\" English #speakers: 1\n",
      "england,london,academic #speakers: 1\n",
      "United States English,Hmong-American #speakers: 1\n",
      "Malaysian English,Singaporean English #speakers: 1\n",
      "Singaporean English,England English #speakers: 1\n",
      "Northern Irish,Norwegian,yorkshire #speakers: 1\n",
      "A variety of Texan English with some German influence that has undergone the cot-caught merger #speakers: 1\n",
      "With heavy Cantonese accent #speakers: 1\n",
      "polish #speakers: 2\n",
      "Filipino,United States English #speakers: 1\n",
      "fluent,ESL,European #speakers: 1\n",
      "United States English,Mid-west United States English #speakers: 1\n",
      "Australian English,England English #speakers: 1\n",
      "United States English,Israeli accent #speakers: 1\n",
      "Thai #speakers: 2\n",
      "United States English,Cool #speakers: 1\n",
      "United States English,midwest #speakers: 1\n",
      "England English,south German / Swiss accent #speakers: 1\n",
      "Canadian English,Irish English #speakers: 1\n",
      "United States English,CARIBBEAN AND BRITISH MIXED WITH SOME NEW YORK ACCENTS #speakers: 1\n",
      "serbian,United States English #speakers: 1\n",
      "Mid-Atlantic United States English,Philadelphia, Pennsylvania, United States English,United States English,Philadelphia Style United States English #speakers: 1\n",
      "England English,British #speakers: 1\n",
      "Nigerian English #speakers: 1\n",
      "West Indies and Bermuda (Bahamas, Bermuda, Jamaica, Trinidad),England English,Scottish English,United States English #speakers: 1\n",
      "India and South Asia (India, Pakistan, Sri Lanka),bangladesh #speakers: 1\n",
      "2nd Language  #speakers: 1\n",
      "Malaysian English,England English #speakers: 1\n",
      "India and South Asia (India, Pakistan, Sri Lanka),try to maintain originality  #speakers: 1\n",
      "Italian #speakers: 1\n",
      "Mid-atlantic,England English,United States English #speakers: 1\n",
      "minor french accent #speakers: 1\n",
      "Dutch English #speakers: 2\n",
      "East African Khoja #speakers: 1\n",
      "Upper Midwestern,United States English #speakers: 1\n",
      "England English,New Zealand English,Welsh English,Australian English,United States English,Mixed-Accent English #speakers: 1\n",
      "United States English,South Texas,Slightly effeminate,Conversational #speakers: 1\n",
      "Midatlantic,England English #speakers: 1\n",
      "United States English,Californian Accent #speakers: 1\n",
      "Ukrainian #speakers: 1\n",
      "United States English,Midwestern States (Michigan) #speakers: 1\n",
      "Malaysian English,Javanese,Indonesian English #speakers: 1\n",
      "United States English,Some time spent in Scotland, mostly affecting inflection, I think #speakers: 1\n",
      "Austrian #speakers: 2\n",
      "Midwestern US English (United States),United States English #speakers: 1\n",
      "United States English,Southwestern United States English #speakers: 1\n",
      "Bangladeshi English #speakers: 1\n",
      "England English,India and South Asia (India, Pakistan, Sri Lanka),Northern English #speakers: 1\n",
      "Spanish,Foreign,Non-native #speakers: 1\n",
      "England English,Northern English #speakers: 1\n",
      "United States English,Pacific Northwest  #speakers: 1\n",
      "England English,southern english,sussex #speakers: 1\n",
      "United States English,Midwestern,Low,Demure #speakers: 1\n",
      "German,south-west German,South German accent,Alemannic German Accent #speakers: 1\n",
      "European,German,Foreign,Non-native #speakers: 1\n",
      "England English,Canadian English #speakers: 1\n",
      "United States English,Southern Californian #speakers: 1\n",
      "Dutch #speakers: 1\n",
      "New Zealand English,England English #speakers: 1\n",
      "England English,South London #speakers: 1\n",
      "United States English,southern United States,New Orleans dialect #speakers: 1\n",
      "Northumbrian British English #speakers: 1\n",
      "England English,Northern England #speakers: 1\n",
      "United States English,Midwestern,Minnesotan #speakers: 1\n",
      "southern United States,United States English #speakers: 1\n",
      "England English,New Zealand English #speakers: 1\n",
      "German English,Non native speaker #speakers: 1\n"
     ]
    }
   ],
   "source": [
    "for accent in unique_accents:\n",
    "    n_speakers = len(data[data['accents'] == accent].client_id.unique())\n",
    "    print(f'{accent} #speakers: {n_speakers}')"
   ]
  },
  {
   "cell_type": "markdown",
   "metadata": {},
   "source": [
    "### How many samples don't have a transcript?"
   ]
  },
  {
   "cell_type": "code",
   "execution_count": 13,
   "metadata": {},
   "outputs": [
    {
     "name": "stdout",
     "output_type": "stream",
     "text": [
      "0 from 1588660 samples don't have a transcript.\n"
     ]
    }
   ],
   "source": [
    "no_text = data[data[\"sentence\"].isnull()]\n",
    "print(f\"{len(no_text.index)} from {len(data.index)} samples don't have a transcript.\")"
   ]
  }
 ],
 "metadata": {
  "kernelspec": {
   "display_name": "Python 3",
   "language": "python",
   "name": "python3"
  },
  "language_info": {
   "codemirror_mode": {
    "name": "ipython",
    "version": 3
   },
   "file_extension": ".py",
   "mimetype": "text/x-python",
   "name": "python",
   "nbconvert_exporter": "python",
   "pygments_lexer": "ipython3",
   "version": "3.9.16"
  },
  "orig_nbformat": 4,
  "vscode": {
   "interpreter": {
    "hash": "bac90b33b2e8bf5368ff2c0ee0f6c7fcb3410fada8b1fda9f71f846ace4b0b44"
   }
  }
 },
 "nbformat": 4,
 "nbformat_minor": 2
}
